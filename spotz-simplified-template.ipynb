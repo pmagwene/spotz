{
 "cells": [
  {
   "cell_type": "code",
   "execution_count": null,
   "metadata": {
    "collapsed": true
   },
   "outputs": [],
   "source": [
    "%matplotlib inline"
   ]
  },
  {
   "cell_type": "code",
   "execution_count": null,
   "metadata": {
    "collapsed": true
   },
   "outputs": [],
   "source": [
    "import numpy as np\n",
    "import scipy as sp"
   ]
  },
  {
   "cell_type": "code",
   "execution_count": null,
   "metadata": {
    "collapsed": true
   },
   "outputs": [],
   "source": [
    "from matplotlib import pyplot as plt\n",
    "import skimage\n",
    "from skimage import (morphology, segmentation, exposure, feature, filters,\n",
    "                     measure, transform, util, io, color)"
   ]
  },
  {
   "cell_type": "code",
   "execution_count": null,
   "metadata": {
    "collapsed": true
   },
   "outputs": [],
   "source": [
    "from toolz.curried import *"
   ]
  },
  {
   "cell_type": "code",
   "execution_count": null,
   "metadata": {},
   "outputs": [],
   "source": [
    "# this will raise a warning about matplotlib backend\n",
    "\n",
    "from spotz import imgz, gridder2, segmenter2, spotzplot"
   ]
  },
  {
   "cell_type": "markdown",
   "metadata": {},
   "source": [
    "# User settings"
   ]
  },
  {
   "cell_type": "code",
   "execution_count": null,
   "metadata": {
    "collapsed": true
   },
   "outputs": [],
   "source": [
    "# change name of file\n",
    "PLATE_IMG = \"XXXX\"\n",
    "\n",
    "# change number of rows and cols as appropriate\n",
    "NROWS = 12\n",
    "NCOLS = 8\n",
    "\n",
    "# change if you'd like larger or smaller figs\n",
    "FIG_SIZE = (8, 10)"
   ]
  },
  {
   "cell_type": "markdown",
   "metadata": {},
   "source": [
    "# Original image"
   ]
  },
  {
   "cell_type": "code",
   "execution_count": null,
   "metadata": {
    "collapsed": true
   },
   "outputs": [],
   "source": [
    "img = imgz.read_image(PLATE_IMG)"
   ]
  },
  {
   "cell_type": "code",
   "execution_count": null,
   "metadata": {},
   "outputs": [],
   "source": [
    "fig = plt.figure(figsize = FIG_SIZE)\n",
    "imgz.imshowg(img)\n",
    "pass"
   ]
  },
  {
   "cell_type": "markdown",
   "metadata": {},
   "source": [
    "# Invert image"
   ]
  },
  {
   "cell_type": "code",
   "execution_count": null,
   "metadata": {
    "collapsed": true
   },
   "outputs": [],
   "source": [
    "iimg = imgz.invert(img)"
   ]
  },
  {
   "cell_type": "code",
   "execution_count": null,
   "metadata": {},
   "outputs": [],
   "source": [
    "fig = plt.figure(figsize = FIG_SIZE)\n",
    "imgz.imshowg(iimg)\n",
    "pass"
   ]
  },
  {
   "cell_type": "markdown",
   "metadata": {},
   "source": [
    "# Gridding"
   ]
  },
  {
   "cell_type": "markdown",
   "metadata": {},
   "source": [
    "## Thresholding and binary opening"
   ]
  },
  {
   "cell_type": "code",
   "execution_count": null,
   "metadata": {
    "collapsed": true
   },
   "outputs": [],
   "source": [
    "# initial thresholding and rotation correction\n",
    "rbimg = pipe(iimg, \n",
    "             imgz.threshold_otsu,\n",
    "             imgz.disk_opening(3), \n",
    "             imgz.clear_border, \n",
    "             gridder2.fix_rotation)\n"
   ]
  },
  {
   "cell_type": "code",
   "execution_count": null,
   "metadata": {},
   "outputs": [],
   "source": [
    "fig = plt.figure(figsize = FIG_SIZE)\n",
    "imgz.imshowg(rbimg)\n",
    "pass"
   ]
  },
  {
   "cell_type": "markdown",
   "metadata": {},
   "source": [
    "## Estimate grid coordinates and draw grid"
   ]
  },
  {
   "cell_type": "code",
   "execution_count": null,
   "metadata": {},
   "outputs": [],
   "source": [
    "g = gridder2.find_grid(NROWS, NCOLS, rbimg)"
   ]
  },
  {
   "cell_type": "code",
   "execution_count": null,
   "metadata": {},
   "outputs": [],
   "source": [
    "fig = plt.figure(figsize = FIG_SIZE)\n",
    "imgz.imshowg(rbimg)\n",
    "ax = plt.gca()\n",
    "ax.plot(g.centers[:,1], g.centers[:,0], 'r.')\n",
    "spotzplot.draw_bboxes(g.bboxes, ax)\n",
    "pass"
   ]
  },
  {
   "cell_type": "markdown",
   "metadata": {},
   "source": [
    "# Segmentation"
   ]
  },
  {
   "cell_type": "markdown",
   "metadata": {},
   "source": [
    "## Rethreshold based on grid"
   ]
  },
  {
   "cell_type": "code",
   "execution_count": null,
   "metadata": {},
   "outputs": [],
   "source": [
    "timg = pipe(iimg,\n",
    "            segmenter2.threshold_bboxes(g.bboxes, threshold_func = imgz.threshold_li),\n",
    "            imgz.remove_small_objects(50),\n",
    "            imgz.remove_small_holes(25),\n",
    "            imgz.disk_closing(3),\n",
    "            imgz.clear_border)"
   ]
  },
  {
   "cell_type": "code",
   "execution_count": null,
   "metadata": {},
   "outputs": [],
   "source": [
    "fig = plt.figure(figsize = FIG_SIZE)\n",
    "imgz.imshowg(timg)\n",
    "pass"
   ]
  },
  {
   "cell_type": "markdown",
   "metadata": {},
   "source": [
    "## Segmentation by watershed"
   ]
  },
  {
   "cell_type": "markdown",
   "metadata": {},
   "source": [
    "### Filter objects by grid"
   ]
  },
  {
   "cell_type": "code",
   "execution_count": null,
   "metadata": {
    "collapsed": true
   },
   "outputs": [],
   "source": []
  },
  {
   "cell_type": "code",
   "execution_count": null,
   "metadata": {
    "collapsed": true
   },
   "outputs": [],
   "source": [
    "filtered_img, filtered_regions = segmenter2.assign_objects_to_grid(g.centers, \n",
    "                                                                   timg, \n",
    "                                                                   maxdist = 30) \n",
    "filtered_bboxes = [r.bbox if r else None for r in filtered_regions]\n",
    "\n"
   ]
  },
  {
   "cell_type": "code",
   "execution_count": null,
   "metadata": {},
   "outputs": [],
   "source": [
    "fig = plt.figure(figsize = FIG_SIZE)\n",
    "imgz.imshowg(filtered_img > 0)\n",
    "pass"
   ]
  },
  {
   "cell_type": "code",
   "execution_count": null,
   "metadata": {},
   "outputs": [],
   "source": [
    "wshed = segmenter2.watershed_segment_bboxes(g.centers, \n",
    "                                             filtered_bboxes, \n",
    "                                             iimg, timg, \n",
    "                                             seed_width = 5)"
   ]
  },
  {
   "cell_type": "code",
   "execution_count": null,
   "metadata": {},
   "outputs": [],
   "source": [
    "fig = plt.figure(figsize = FIG_SIZE)\n",
    "ax = plt.gca()\n",
    "ax.imshow(color.label2rgb(wshed, img, bg_label = 0))\n",
    "pass"
   ]
  },
  {
   "cell_type": "code",
   "execution_count": null,
   "metadata": {},
   "outputs": [],
   "source": [
    "fig, ax = spotzplot.draw_image_and_labels(img, wshed,\n",
    "                                          mask_cmap = \"Reds\", alpha = 0.35,\n",
    "                                         fontsize = 10, textcolor = \"orange\")\n",
    "fig.set_size_inches(FIG_SIZE)"
   ]
  },
  {
   "cell_type": "code",
   "execution_count": null,
   "metadata": {
    "collapsed": true
   },
   "outputs": [],
   "source": []
  }
 ],
 "metadata": {
  "kernelspec": {
   "display_name": "Python 2",
   "language": "python",
   "name": "python2"
  },
  "language_info": {
   "codemirror_mode": {
    "name": "ipython",
    "version": 2
   },
   "file_extension": ".py",
   "mimetype": "text/x-python",
   "name": "python",
   "nbconvert_exporter": "python",
   "pygments_lexer": "ipython2",
   "version": "2.7.13"
  }
 },
 "nbformat": 4,
 "nbformat_minor": 2
}
